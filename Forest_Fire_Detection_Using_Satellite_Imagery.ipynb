{
  "cells": [
    {
      "cell_type": "markdown",
      "metadata": {
        "id": "view-in-github",
        "colab_type": "text"
      },
      "source": [
        "<a href=\"https://colab.research.google.com/github/sharvayuzade/Green_AI_Workshop/blob/main/Forest_Fire_Detection_Using_Satellite_Imagery.ipynb\" target=\"_parent\"><img src=\"https://colab.research.google.com/assets/colab-badge.svg\" alt=\"Open In Colab\"/></a>"
      ]
    },
    {
      "cell_type": "code",
      "execution_count": null,
      "id": "0c2cd988",
      "metadata": {
        "id": "0c2cd988"
      },
      "outputs": [],
      "source": [
        "import tensorflow as tf\n",
        "from tensorflow.keras.preprocessing.image import ImageDataGenerator #for data augumentation\n",
        "from tensorflow.keras.models import Sequential\n",
        "from tensorflow.keras.layers import Conv2D, MaxPooling2D, Flatten, Dense, Dropout\n",
        "import tkinter as tk\n",
        "from tkinter import filedialog #provides a dialog box to select files.\n",
        "from PIL import Image, ImageTk #ImageTk - Converts images for display in Tkinter GUIs\n",
        "import numpy as np"
      ]
    },
    {
      "cell_type": "code",
      "execution_count": null,
      "id": "cf66f542",
      "metadata": {
        "id": "cf66f542",
        "outputId": "854f2424-22a4-4d90-9d5c-3e27dad5a165"
      },
      "outputs": [
        {
          "name": "stdout",
          "output_type": "stream",
          "text": [
            "Found 30250 images belonging to 2 classes.\n",
            "Found 6300 images belonging to 2 classes.\n",
            "Found 6300 images belonging to 2 classes.\n"
          ]
        }
      ],
      "source": [
        "# Set up directories\n",
        "train_dir = r\"Datasets\\Forest fire classification data\\train\"\n",
        "valid_dir = r\"Datasets\\Forest fire classification data\\valid\"\n",
        "test_dir = r\"Datasets\\Forest fire classification data\\test\"\n",
        "\n",
        "# Set up ImageDataGenerators for loading images\n",
        "train_datagen = ImageDataGenerator(rescale=1./255)\n",
        "valid_datagen = ImageDataGenerator(rescale=1./255)\n",
        "test_datagen = ImageDataGenerator(rescale=1./255)\n",
        "\n",
        "# Load images from directories\n",
        "train_generator = train_datagen.flow_from_directory(train_dir, target_size=(64, 64), batch_size=32, class_mode='binary')\n",
        "valid_generator = valid_datagen.flow_from_directory(valid_dir, target_size=(64, 64), batch_size=32, class_mode='binary')\n",
        "test_generator = test_datagen.flow_from_directory(test_dir, target_size=(64, 64), batch_size=32, class_mode='binary')\n"
      ]
    },
    {
      "cell_type": "code",
      "execution_count": null,
      "id": "6d769b3c",
      "metadata": {
        "id": "6d769b3c"
      },
      "outputs": [],
      "source": [
        "# Building a simple CNN model\n",
        "model = Sequential([\n",
        "    Conv2D(32, (3, 3), activation='relu', input_shape=(64, 64, 3)),\n",
        "    MaxPooling2D(pool_size=(2, 2)),\n",
        "    Conv2D(64, (3, 3), activation='relu'),\n",
        "    MaxPooling2D(pool_size=(2, 2)),\n",
        "    Flatten(),\n",
        "    Dense(128, activation='relu'),\n",
        "    Dropout(0.5),\n",
        "    Dense(1, activation='sigmoid')  # Binary classification: wildfire or no wildfire\n",
        "])\n",
        "\n",
        "# Compile the model\n",
        "model.compile(optimizer='adam', loss='binary_crossentropy', metrics=['accuracy'])\n"
      ]
    },
    {
      "cell_type": "code",
      "execution_count": null,
      "id": "3ba1f311",
      "metadata": {
        "id": "3ba1f311"
      },
      "outputs": [],
      "source": [
        "from PIL import ImageFile\n",
        "ImageFile.LOAD_TRUNCATED_IMAGES = True"
      ]
    },
    {
      "cell_type": "code",
      "execution_count": null,
      "id": "a516875b",
      "metadata": {
        "id": "a516875b",
        "outputId": "1920084b-95c0-4a46-ea33-0b8859282504"
      },
      "outputs": [
        {
          "name": "stdout",
          "output_type": "stream",
          "text": [
            "Epoch 1/10\n",
            "946/946 [==============================] - 618s 653ms/step - loss: 0.1909 - accuracy: 0.9301 - val_loss: 0.1399 - val_accuracy: 0.9489\n",
            "Epoch 2/10\n",
            "946/946 [==============================] - 480s 507ms/step - loss: 0.1702 - accuracy: 0.9379 - val_loss: 0.2198 - val_accuracy: 0.9081\n",
            "Epoch 3/10\n",
            "946/946 [==============================] - 254s 268ms/step - loss: 0.1568 - accuracy: 0.9434 - val_loss: 0.1505 - val_accuracy: 0.9433\n",
            "Epoch 4/10\n",
            "946/946 [==============================] - 275s 290ms/step - loss: 0.1436 - accuracy: 0.9487 - val_loss: 0.1225 - val_accuracy: 0.9540\n",
            "Epoch 5/10\n",
            "946/946 [==============================] - 286s 302ms/step - loss: 0.1286 - accuracy: 0.9529 - val_loss: 0.1368 - val_accuracy: 0.9519\n",
            "Epoch 6/10\n",
            "946/946 [==============================] - 280s 296ms/step - loss: 0.1173 - accuracy: 0.9557 - val_loss: 0.1120 - val_accuracy: 0.9616\n",
            "Epoch 7/10\n",
            "946/946 [==============================] - 284s 300ms/step - loss: 0.1095 - accuracy: 0.9598 - val_loss: 0.1145 - val_accuracy: 0.9589\n",
            "Epoch 8/10\n",
            "946/946 [==============================] - 275s 291ms/step - loss: 0.0976 - accuracy: 0.9655 - val_loss: 0.1128 - val_accuracy: 0.9608\n",
            "Epoch 9/10\n",
            "946/946 [==============================] - 304s 321ms/step - loss: 0.0883 - accuracy: 0.9691 - val_loss: 0.1063 - val_accuracy: 0.9624\n",
            "Epoch 10/10\n",
            "946/946 [==============================] - 321s 339ms/step - loss: 0.0754 - accuracy: 0.9736 - val_loss: 0.1222 - val_accuracy: 0.9622\n"
          ]
        }
      ],
      "source": [
        "# Train the model\n",
        "history = model.fit(train_generator, validation_data=valid_generator, epochs=10, verbose=1)"
      ]
    },
    {
      "cell_type": "code",
      "execution_count": null,
      "id": "9c82c734-25c3-4232-9098-7c3239d22231",
      "metadata": {
        "id": "9c82c734-25c3-4232-9098-7c3239d22231"
      },
      "outputs": [],
      "source": [
        "#save the model\n",
        "model.save(\"ffd_model.h5\")"
      ]
    },
    {
      "cell_type": "code",
      "execution_count": null,
      "id": "6d2aca8d-6eb3-4747-90d2-777721276ecf",
      "metadata": {
        "id": "6d2aca8d-6eb3-4747-90d2-777721276ecf"
      },
      "outputs": [],
      "source": [
        "import tkinter as tk\n",
        "from tkinter import filedialog\n",
        "\n",
        "from PIL import Image, ImageTk\n",
        "import numpy as np\n",
        "import tensorflow as tf\n",
        "\n",
        "from tensorflow.keras.models import load_model"
      ]
    },
    {
      "cell_type": "code",
      "execution_count": null,
      "id": "c13f17c4-32cc-4576-8a07-644adbbba5d8",
      "metadata": {
        "id": "c13f17c4-32cc-4576-8a07-644adbbba5d8",
        "outputId": "5271a5a8-6a3c-4f59-86c7-0573ed26dbd8"
      },
      "outputs": [
        {
          "name": "stderr",
          "output_type": "stream",
          "text": [
            "WARNING:absl:Compiled the loaded model, but the compiled metrics have yet to be built. `model.compile_metrics` will be empty until you train or evaluate the model.\n"
          ]
        },
        {
          "name": "stdout",
          "output_type": "stream",
          "text": [
            "Model loaded successfully!\n"
          ]
        }
      ],
      "source": [
        "# Load the model\n",
        "model = load_model(\"ffd_model.h5\")\n",
        "print(\"Model loaded successfully!\")"
      ]
    },
    {
      "cell_type": "code",
      "execution_count": null,
      "id": "ae03e0b9",
      "metadata": {
        "id": "ae03e0b9"
      },
      "outputs": [],
      "source": [
        "# Function to load and predict an image\n",
        "def predict_image():\n",
        "    # Open file dialog to select an image\n",
        "    file_path = filedialog.askopenfilename()\n",
        "    if file_path:\n",
        "        # Display the image in the GUI\n",
        "        img = Image.open(file_path)\n",
        "        img = img.resize((200, 200))\n",
        "        img = ImageTk.PhotoImage(img)    #convert image for tk\n",
        "        image_label.configure(image=img) #update the image in GUI\n",
        "        image_label.image = img\n",
        "\n",
        "        # Preprocess the image for the model\n",
        "        img_for_model = Image.open(file_path).resize((64, 64))\n",
        "        img_array = np.array(img_for_model) / 255.0  # Rescale like during training\n",
        "        img_array = np.expand_dims(img_array, axis=0)  # Add batch dimension\n",
        "\n",
        "        # Make a prediction\n",
        "        prediction = model.predict(img_array)[0][0] #extracts the scalar prediction value\n",
        "        result = \"Wildfire\" if prediction > 0.5 else \"No Wildfire\"\n",
        "        result_label.config(text=\"Prediction: \" + result)\n",
        "\n",
        "# Setting up the GUI window\n",
        "root = tk.Tk()\n",
        "root.title(\"Forest Fire Detection\")\n",
        "root.geometry(\"400x400\")\n",
        "\n",
        "# Add widgets\n",
        "btn = tk.Button(root, text=\"Upload Image\", command=predict_image) #button triggers the predict_image() function when clicked\n",
        "btn.pack(pady=20)\n",
        "\n",
        "#Placeholder for displaying the selected image\n",
        "image_label = tk.Label(root)\n",
        "image_label.pack()\n",
        "\n",
        "#Label to display the prediction result\n",
        "result_label = tk.Label(root, text=\"Prediction: \", font=(\"Helvetica\", 16))\n",
        "result_label.pack(pady=20)\n",
        "\n",
        "#Starts the Tkinter event loop, keeping the GUI active until manually closed\n",
        "root.mainloop()"
      ]
    }
  ],
  "metadata": {
    "kernelspec": {
      "display_name": "Python 3 (ipykernel)",
      "language": "python",
      "name": "python3"
    },
    "language_info": {
      "codemirror_mode": {
        "name": "ipython",
        "version": 3
      },
      "file_extension": ".py",
      "mimetype": "text/x-python",
      "name": "python",
      "nbconvert_exporter": "python",
      "pygments_lexer": "ipython3",
      "version": "3.12.3"
    },
    "colab": {
      "provenance": [],
      "include_colab_link": true
    }
  },
  "nbformat": 4,
  "nbformat_minor": 5
}